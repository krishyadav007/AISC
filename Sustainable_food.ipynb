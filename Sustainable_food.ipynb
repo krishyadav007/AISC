{
  "nbformat": 4,
  "nbformat_minor": 0,
  "metadata": {
    "colab": {
      "name": "Sustainable food.ipynb",
      "provenance": [],
      "collapsed_sections": [],
      "authorship_tag": "ABX9TyPAxLKRrYSYVWmMmIxuhAYf",
      "include_colab_link": true
    },
    "kernelspec": {
      "name": "python3",
      "display_name": "Python 3"
    },
    "language_info": {
      "name": "python"
    }
  },
  "cells": [
    {
      "cell_type": "markdown",
      "metadata": {
        "id": "view-in-github",
        "colab_type": "text"
      },
      "source": [
        "<a href=\"https://colab.research.google.com/github/krishyadav007/AISC/blob/main/Sustainable_food.ipynb\" target=\"_parent\"><img src=\"https://colab.research.google.com/assets/colab-badge.svg\" alt=\"Open In Colab\"/></a>"
      ]
    },
    {
      "cell_type": "code",
      "metadata": {
        "colab": {
          "base_uri": "https://localhost:8080/"
        },
        "id": "_A63juBOcX9n",
        "outputId": "1f5588ac-b5b7-4eda-ad96-74cc5bb74e71"
      },
      "source": [
        "from google.colab import drive\n",
        "drive.mount('/content/drive')\n",
        "\n",
        "import pandas as pd\n",
        "import numpy as np\n",
        "import matplotlib.pyplot as plt\n",
        "import glob\n",
        "\n",
        "import nltk\n",
        "from nltk.corpus import stopwords\n",
        "from nltk.tokenize import word_tokenize\n",
        "nltk.download(\"popular\")"
      ],
      "execution_count": 1,
      "outputs": [
        {
          "output_type": "stream",
          "text": [
            "Mounted at /content/drive\n",
            "[nltk_data] Downloading collection 'popular'\n",
            "[nltk_data]    | \n",
            "[nltk_data]    | Downloading package cmudict to /root/nltk_data...\n",
            "[nltk_data]    |   Unzipping corpora/cmudict.zip.\n",
            "[nltk_data]    | Downloading package gazetteers to /root/nltk_data...\n",
            "[nltk_data]    |   Unzipping corpora/gazetteers.zip.\n",
            "[nltk_data]    | Downloading package genesis to /root/nltk_data...\n",
            "[nltk_data]    |   Unzipping corpora/genesis.zip.\n",
            "[nltk_data]    | Downloading package gutenberg to /root/nltk_data...\n",
            "[nltk_data]    |   Unzipping corpora/gutenberg.zip.\n",
            "[nltk_data]    | Downloading package inaugural to /root/nltk_data...\n",
            "[nltk_data]    |   Unzipping corpora/inaugural.zip.\n",
            "[nltk_data]    | Downloading package movie_reviews to\n",
            "[nltk_data]    |     /root/nltk_data...\n",
            "[nltk_data]    |   Unzipping corpora/movie_reviews.zip.\n",
            "[nltk_data]    | Downloading package names to /root/nltk_data...\n",
            "[nltk_data]    |   Unzipping corpora/names.zip.\n",
            "[nltk_data]    | Downloading package shakespeare to /root/nltk_data...\n",
            "[nltk_data]    |   Unzipping corpora/shakespeare.zip.\n",
            "[nltk_data]    | Downloading package stopwords to /root/nltk_data...\n",
            "[nltk_data]    |   Unzipping corpora/stopwords.zip.\n",
            "[nltk_data]    | Downloading package treebank to /root/nltk_data...\n",
            "[nltk_data]    |   Unzipping corpora/treebank.zip.\n",
            "[nltk_data]    | Downloading package twitter_samples to\n",
            "[nltk_data]    |     /root/nltk_data...\n",
            "[nltk_data]    |   Unzipping corpora/twitter_samples.zip.\n",
            "[nltk_data]    | Downloading package omw to /root/nltk_data...\n",
            "[nltk_data]    |   Unzipping corpora/omw.zip.\n",
            "[nltk_data]    | Downloading package wordnet to /root/nltk_data...\n",
            "[nltk_data]    |   Unzipping corpora/wordnet.zip.\n",
            "[nltk_data]    | Downloading package wordnet_ic to /root/nltk_data...\n",
            "[nltk_data]    |   Unzipping corpora/wordnet_ic.zip.\n",
            "[nltk_data]    | Downloading package words to /root/nltk_data...\n",
            "[nltk_data]    |   Unzipping corpora/words.zip.\n",
            "[nltk_data]    | Downloading package maxent_ne_chunker to\n",
            "[nltk_data]    |     /root/nltk_data...\n",
            "[nltk_data]    |   Unzipping chunkers/maxent_ne_chunker.zip.\n",
            "[nltk_data]    | Downloading package punkt to /root/nltk_data...\n",
            "[nltk_data]    |   Unzipping tokenizers/punkt.zip.\n",
            "[nltk_data]    | Downloading package snowball_data to\n",
            "[nltk_data]    |     /root/nltk_data...\n",
            "[nltk_data]    | Downloading package averaged_perceptron_tagger to\n",
            "[nltk_data]    |     /root/nltk_data...\n",
            "[nltk_data]    |   Unzipping taggers/averaged_perceptron_tagger.zip.\n",
            "[nltk_data]    | \n",
            "[nltk_data]  Done downloading collection popular\n"
          ],
          "name": "stdout"
        },
        {
          "output_type": "execute_result",
          "data": {
            "text/plain": [
              "True"
            ]
          },
          "metadata": {
            "tags": []
          },
          "execution_count": 1
        }
      ]
    },
    {
      "cell_type": "code",
      "metadata": {
        "colab": {
          "base_uri": "https://localhost:8080/"
        },
        "id": "aPZ8hW_rd0bg",
        "outputId": "e5c94bd7-f5de-4432-f90f-e57b55080bc0"
      },
      "source": [
        "df = pd.read_json('/content/drive/MyDrive/Food/whole-wheat-hot-dog-roll-homemade-whole-wheat-hotdog-roll-41911.json',orient='index')\n",
        "df = df.transpose()\n",
        "df.head()\n",
        "\n",
        "print(df.loc[0])"
      ],
      "execution_count": 2,
      "outputs": [
        {
          "output_type": "stream",
          "text": [
            "slug          whole-wheat-hot-dog-roll-homemade-whole-wheat-...\n",
            "data_tags                  [Bread Snack, Oven, Advanced Breads]\n",
            "nutrition     [{'Type': '', 'Value per': 'Value per hot dog ...\n",
            "ingredient    {'whole wheat flour (gehun ka atta)': 'for dus...\n",
            "recipe        \\nMethod\\n\\nMethodCombine the warm milk, 2 tbs...\n",
            "Name: 0, dtype: object\n"
          ],
          "name": "stdout"
        }
      ]
    },
    {
      "cell_type": "code",
      "metadata": {
        "id": "LWUC9jdZsJPU"
      },
      "source": [
        "df = pd.DataFrame()\n",
        "for file in glob.glob(\"/content/drive/MyDrive/Food/*.json\"):\n",
        "  row = pd.read_json(file,orient='index')\n",
        "  row = row.transpose()\n",
        "  df = df.append(row, ignore_index = True)"
      ],
      "execution_count": 3,
      "outputs": []
    },
    {
      "cell_type": "code",
      "metadata": {
        "colab": {
          "base_uri": "https://localhost:8080/"
        },
        "id": "kkceEd49tU3G",
        "outputId": "33af237a-5e44-4808-e731-41c228a5121c"
      },
      "source": [
        "print(df)"
      ],
      "execution_count": 4,
      "outputs": [
        {
          "output_type": "stream",
          "text": [
            "                                                 slug  ...                                             recipe\n",
            "0                                      veg-puff-40842  ...  \\nMethod\\n\\nFor the veg fillingFor the veg fil...\n",
            "1    hakka-noodles--chinese-hakka-noodle-recipe-22756  ...  \\nMethod\\n\\nFor the chilli oilFor the chilli o...\n",
            "2   death-by-chocolate-pastry--cakes-and-pastries-...  ...  \\nMethod\\n\\nFor the gateauFor the gateauSlice ...\n",
            "3   masala-french-fries--burgers-and-smoothies-rec...  ...  \\nMethod\\n\\nMethodBoil a vesselful of water wi...\n",
            "4                                        burger-30812  ...  \\nMethod\\n\\nMain ProcedureFor the tikkisFor th...\n",
            "5                               pizza-margherita-3278  ...  \\nMethod\\n\\nMain procedurePlace one pizza base...\n",
            "6         veg-manchurian-chinese-dry-manchurian-42072  ...  \\nMethod\\n\\nFor the manchurian ballsFor the ma...\n",
            "7          pasta-in-tomato-sauce--tiffin-recipe-33106  ...  \\nMethod\\n\\nFor pasta in tomato sauceFor pasta...\n",
            "8          pasta-primavera-salad-with-vegetables-1829  ...  \\nMethod\\n\\nMethodCombine all the ingredients ...\n",
            "9                    dosa---south-indian-recipe-32927  ...  \\nMethod\\n\\nFor dosaFor dosaCombine the urad d...\n",
            "10   parathas-stuffed-with-vegetables-and-cheese-1475  ...  \\nMethod\\n\\nFor the doughFor the doughCombine ...\n",
            "11             fried-rice-chinese-veg-fried-rice-2591  ...  \\nMethod\\n\\nMethodWash, peel and chop the carr...\n",
            "12      lachha-paratha-how-to-make-lachha-paratha-181  ...  \\nMethod\\n\\nFor lachha parathaFor lachha parat...\n",
            "13           bhatura--bhatura-yeast-free-recipe-30917  ...  \\nMethod\\n\\nFor bhaturaFor bhaturaTo make bhat...\n",
            "14   makki-ki-roti-punjabi-makki-di-roti-recipe-30908  ...  \\nMethod\\n\\nFor makki ki rotiFor makki ki roti...\n",
            "15            kulcha-plain-kulcha-butter-kulcha-41472  ...  \\nMethod\\n\\nMethodCombine the yeast, sugar and...\n",
            "16         aloo-paratha-how-to-make-aloo-paratha-2172  ...  \\nMethod\\n\\nFor the doughFor the doughCombine ...\n",
            "17           gobi-paratha--punjabi-gobi-paratha-30915  ...  \\nMethod\\n\\nFor the doughFor the doughCombine ...\n",
            "18                punjabi-mooli-stuffed-paratha-42519  ...  \\nMethod\\n\\nFor the doughFor the doughCombine ...\n",
            "19  punjabi-missi-roti-how-to-make-punjabi-missi-r...  ...  \\nMethod\\n\\nFor punjabi missi rotiFor punjabi ...\n",
            "20          butter-naan-how-to-make-butter-naan-38887  ...  \\nMethod\\n\\nMethodCombine the yeast, sugar and...\n",
            "21                                  bhedawi-puri-3887  ...  \\nMethod\\n\\nFor the doughFor the doughCombine ...\n",
            "22                                   bejar-roti-38881  ...  \\nMethod\\n\\nFor bejar rotiFor bejar rotiTo mak...\n",
            "23                                dal-ke-parathe-3890  ...  \\nMethod\\n\\nFor the doughFor the doughCombine ...\n",
            "24            jowar-bhakri-healthy-jowar-bhakri-40619  ...  \\nMethod\\n\\nFor jowar bhakriFor jowar bhakriTo...\n",
            "25                                chawal-bhakri-40160  ...  \\nMethod\\n\\nFor chawal bhakriFor chawal bhakri...\n",
            "26   puran-poli-maharashtrian-puran-poli-recipe-37027  ...  \\nMethod\\n\\nFor the puran poli doughFor the pu...\n",
            "27  rava-sheera-sooji-ka-halwa-how-to-make-sooji-h...  ...  \\nMethod\\n\\nFor rava sheeraFor rava sheeraTo m...\n",
            "28     thalipeeth-quick-maharashtrian-thalipeeth-1716  ...  \\nMethod\\n\\nFor thalipeethFor thalipeethTo mak...\n",
            "29                            mini-onion-samosa-40490  ...  \\nMethod\\n\\nFor the doughFor the doughCombine ...\n",
            "30         samosa-pav--mumbai-roadside-recipes--33394  ...  \\nMethod\\n\\nFor the doughFor the doughCombine ...\n",
            "31                                   kanda-poha-33444  ...  \\nMethod\\n\\nFor kanda pohaFor kanda pohaTo mak...\n",
            "32                             sabudana-khichdi-39657  ...  \\nMethod\\n\\nMethod to make sabudana khichdiMet...\n",
            "33  roti--how-to-make-soft-roti-or-phulka-or-chapa...  ...  \\nMethod\\n\\nFor thevrotiFor thevrotiTo make th...\n",
            "34  bread-loaf-basic-white-bread-loaf-using-yeast-...  ...  \\nMethod\\n\\nFor bread loafFor bread loafTo mak...\n",
            "35                      brown-bread--low-calorie-1320  ...  \\nMethod\\n\\nFor brown breadFor brown breadTo m...\n",
            "36                                          idli-1652  ...  \\nMethod\\n\\nFor idliFor idliCombine the urad d...\n",
            "37  dal-vada-south-indian-chana-dal-vada-masala-va...  ...  \\nMethod\\n\\nFor dal vadaFor dal vadaTo make da...\n",
            "38  whole-wheat-hot-dog-roll-homemade-whole-wheat-...  ...  \\nMethod\\n\\nMethodCombine the warm milk, 2 tbs...\n",
            "\n",
            "[39 rows x 5 columns]\n"
          ],
          "name": "stdout"
        }
      ]
    },
    {
      "cell_type": "code",
      "metadata": {
        "id": "w2sEFw7XwWvK"
      },
      "source": [
        "def funcosine(X,Y):\n",
        "  # tokenization\n",
        "  X_list = word_tokenize(X)\n",
        "  Y_list = word_tokenize(Y)\n",
        "\n",
        "  # sw contains the list of stopwords\n",
        "  sw = stopwords.words('english')\n",
        "  l1 =[];l2 =[]\n",
        "\n",
        "  # remove stop words from the string\n",
        "  X_set = {w for w in X_list if not w in sw}\n",
        "  Y_set = {w for w in Y_list if not w in sw}\n",
        "\n",
        "  # form a set containing keywords of both strings\n",
        "  rvector = X_set.union(Y_set)\n",
        "  for w in rvector:\n",
        "    if w in X_set: l1.append(1) # create a vector\n",
        "    else: l1.append(0)\n",
        "    if w in Y_set: l2.append(1)\n",
        "    else: l2.append(0)\n",
        "  c = 0\n",
        "\n",
        "  # cosine formula\n",
        "  for i in range(len(rvector)):\n",
        "      c+= l1[i]*l2[i]\n",
        "  cosine = c / float((sum(l1)*sum(l2))**0.5)\n",
        "  \n",
        "  return cosine"
      ],
      "execution_count": 5,
      "outputs": []
    },
    {
      "cell_type": "code",
      "metadata": {
        "colab": {
          "base_uri": "https://localhost:8080/"
        },
        "id": "g_JYN4gy5msP",
        "outputId": "6e105da9-b649-45da-e65e-a3ababd52dba"
      },
      "source": [
        "INDX = input('Choose your recipe : ')"
      ],
      "execution_count": 6,
      "outputs": [
        {
          "output_type": "stream",
          "text": [
            "Choose your recipe : 7\n"
          ],
          "name": "stdout"
        }
      ]
    },
    {
      "cell_type": "code",
      "metadata": {
        "colab": {
          "base_uri": "https://localhost:8080/"
        },
        "id": "NKEZMxHvxNNh",
        "outputId": "0081e55f-a78f-424e-c3af-af5dc3308325"
      },
      "source": [
        "INDX = 37\n",
        "print('Cosine similarity btw recipe')\n",
        "for i in range(len(df)) :\n",
        "  print(str(i) + ' ' +str(funcosine(df.loc[i, \"recipe\"],df.loc[INDX, \"recipe\"])))\n",
        "\n",
        "print('Cosine similarity btw items')\n",
        "recipeI = ' '.join(map(str, list(df.loc[INDX, \"ingredient\"].keys())))\n",
        "for i in range(len(df)) :\n",
        "  str_recipe1 = ' '.join(map(str, list(df.loc[i, \"ingredient\"].keys())))\n",
        "  \n",
        "  print(str(i) + ' ' +str(funcosine(str_recipe1, recipeI )))\n",
        "\n",
        "print('Cosine similarity btw data tags')\n",
        "data_tagI = ' '.join(map(str, df.loc[INDX, 'data_tags']))\n",
        "\n",
        "for i in range(len(df)) :\n",
        "  data_tag1 = ' '.join(map(str, df.loc[i, 'data_tags']))\n",
        "  \n",
        "  print(str(i) + ' ' +str(funcosine(data_tag1, data_tagI )))"
      ],
      "execution_count": 9,
      "outputs": [
        {
          "output_type": "stream",
          "text": [
            "Cosine similarity btw recipe\n",
            "0 0.26716197316409324\n",
            "1 0.2112500740992099\n",
            "2 0.1717007049358613\n",
            "3 0.30235394895347606\n",
            "4 0.3314822017398875\n",
            "5 0.15609763526361567\n",
            "6 0.4668995278238409\n",
            "7 0.1818226276309493\n",
            "8 0.25\n",
            "9 0.40431895657541517\n",
            "10 0.3548481235341133\n",
            "11 0.15097027121927944\n",
            "12 0.28718326344709527\n",
            "13 0.5432144762551112\n",
            "14 0.2837521769195829\n",
            "15 0.36273812505500586\n",
            "16 0.35355339059327373\n",
            "17 0.35007002100700246\n",
            "18 0.343681554372832\n",
            "19 0.37463432463267765\n",
            "20 0.2932942300427066\n",
            "21 0.48780607717434216\n",
            "22 0.4040610178208843\n",
            "23 0.44226898133585163\n",
            "24 0.35994517732556675\n",
            "25 0.35994517732556675\n",
            "26 0.3617390217072359\n",
            "27 0.22589061522849765\n",
            "28 0.3813850356982369\n",
            "29 0.4596194077712559\n",
            "30 0.3941203906840411\n",
            "31 0.30935921676911454\n",
            "32 0.32319656328389157\n",
            "33 0.3239757976459313\n",
            "34 0.22687130324325755\n",
            "35 0.28327886186626583\n",
            "36 0.29400324572482534\n",
            "37 1.0\n",
            "38 0.22893427324781504\n",
            "Cosine similarity btw items\n",
            "0 0.38005847503304596\n",
            "1 0.21483446221182986\n",
            "2 0.0\n",
            "3 0.3396831102433787\n",
            "4 0.2891574659831201\n",
            "5 0.05661385170722978\n",
            "6 0.27311549679956754\n",
            "7 0.264197974633739\n",
            "8 0.16724840200141816\n",
            "9 0.16012815380508713\n",
            "10 0.2864459496157732\n",
            "11 0.2620712091804796\n",
            "12 0.1860521018838127\n",
            "13 0.2620712091804796\n",
            "14 0.19611613513818402\n",
            "15 0.19026059766179762\n",
            "16 0.3396831102433787\n",
            "17 0.3344968040028363\n",
            "18 0.4309458036856673\n",
            "19 0.4181210050035454\n",
            "20 0.13867504905630726\n",
            "21 0.29649972666444047\n",
            "22 0.43145549730400484\n",
            "23 0.43145549730400484\n",
            "24 0.16984155512168936\n",
            "25 0.23652495839563303\n",
            "26 0.3763089045031908\n",
            "27 0.19026059766179762\n",
            "28 0.4779521193992432\n",
            "29 0.5012804118276031\n",
            "30 0.3432777406143738\n",
            "31 0.5481019981862868\n",
            "32 0.4151682458530185\n",
            "33 0.23652495839563303\n",
            "34 0.16984155512168936\n",
            "35 0.20254787341673333\n",
            "36 0.2044652050273827\n",
            "37 1.0\n",
            "38 0.22496063533292376\n",
            "Cosine similarity btw data tags\n",
            "0 0.13483997249264842\n",
            "1 0.20100756305184242\n",
            "2 0.0\n",
            "3 0.31980107453341566\n",
            "4 0.10660035817780521\n",
            "5 0.0\n",
            "6 0.26967994498529685\n",
            "7 0.10660035817780521\n",
            "8 0.13483997249264842\n",
            "9 0.24618298195866545\n",
            "10 0.19069251784911848\n",
            "11 0.0\n",
            "12 0.2279211529192759\n",
            "13 0.24618298195866545\n",
            "14 0.24618298195866545\n",
            "15 0.09534625892455924\n",
            "16 0.26967994498529685\n",
            "17 0.17407765595569785\n",
            "18 0.24618298195866545\n",
            "19 0.09534625892455924\n",
            "20 0.20100756305184242\n",
            "21 0.11396057645963795\n",
            "22 0.10660035817780521\n",
            "23 0.26967994498529685\n",
            "24 0.26967994498529685\n",
            "25 0.2279211529192759\n",
            "26 0.09534625892455924\n",
            "27 0.3692744729379982\n",
            "28 0.4558423058385518\n",
            "29 0.3418817293789138\n",
            "30 0.0\n",
            "31 0.40451991747794525\n",
            "32 0.31980107453341566\n",
            "33 0.18181818181818182\n",
            "34 0.3692744729379982\n",
            "35 0.0\n",
            "36 0.0\n",
            "37 1.0\n",
            "38 0.13483997249264842\n"
          ],
          "name": "stdout"
        }
      ]
    }
  ]
}